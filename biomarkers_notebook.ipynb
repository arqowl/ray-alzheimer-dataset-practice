{
 "cells": [
  {
   "cell_type": "code",
   "execution_count": 70,
   "metadata": {},
   "outputs": [
    {
     "name": "stdout",
     "output_type": "stream",
     "text": [
      "CUDA is available: True\n",
      "CUDA version: 12.1\n",
      "Number of GPUs: 1\n",
      "Current GPU: 0\n",
      "GPU Name: NVIDIA GeForce RTX 4060\n"
     ]
    }
   ],
   "source": [
    "import torch\n",
    "\n",
    "print(f\"CUDA is available: {torch.cuda.is_available()}\")\n",
    "print(f\"CUDA version: {torch.version.cuda}\")\n",
    "print(f\"Number of GPUs: {torch.cuda.device_count()}\")\n",
    "print(f\"Current GPU: {torch.cuda.current_device()}\")\n",
    "print(f\"GPU Name: {torch.cuda.get_device_name(0)}\")"
   ]
  },
  {
   "cell_type": "code",
   "execution_count": 71,
   "metadata": {},
   "outputs": [
    {
     "name": "stdout",
     "output_type": "stream",
     "text": [
      "The autoreload extension is already loaded. To reload it, use:\n",
      "  %reload_ext autoreload\n"
     ]
    }
   ],
   "source": [
    "%load_ext autoreload\n",
    "%autoreload 2\n",
    "import pandas as pd\n",
    "import numpy as np\n",
    "from torch.utils.data import Dataset, DataLoader\n",
    "import sys\n",
    "\n",
    "sys.path.append('../')"
   ]
  },
  {
   "cell_type": "markdown",
   "metadata": {},
   "source": [
    "# 1. Loading Ray Dataset: "
   ]
  },
  {
   "cell_type": "markdown",
   "metadata": {},
   "source": [
    "## 1.1 Creating dataset objects:"
   ]
  },
  {
   "cell_type": "code",
   "execution_count": 72,
   "metadata": {},
   "outputs": [],
   "source": [
    "from datasets import RayAlzheymerDataset\n",
    "\n",
    "train_dataset = RayAlzheymerDataset('datasets/ray_dataset/AD-Train-120.csv')\n",
    "test_dataset = RayAlzheymerDataset('datasets/ray_dataset/AD-Test-120.csv')"
   ]
  },
  {
   "cell_type": "code",
   "execution_count": 73,
   "metadata": {},
   "outputs": [
    {
     "data": {
      "text/plain": [
       "<datasets.RayAlzheymerDataset at 0x2a08890f6b0>"
      ]
     },
     "execution_count": 73,
     "metadata": {},
     "output_type": "execute_result"
    }
   ],
   "source": [
    "train_dataset"
   ]
  },
  {
   "cell_type": "code",
   "execution_count": 74,
   "metadata": {},
   "outputs": [
    {
     "data": {
      "text/plain": [
       "<datasets.RayAlzheymerDataset at 0x2a0889ca090>"
      ]
     },
     "execution_count": 74,
     "metadata": {},
     "output_type": "execute_result"
    }
   ],
   "source": [
    "test_dataset"
   ]
  },
  {
   "cell_type": "markdown",
   "metadata": {},
   "source": [
    "## 1.2 Creating Dataloader Objects:"
   ]
  },
  {
   "cell_type": "code",
   "execution_count": 75,
   "metadata": {},
   "outputs": [],
   "source": [
    "from torch.utils.data import DataLoader\n",
    "\n",
    "train_loader = DataLoader(dataset=train_dataset, batch_size=32, shuffle=True)\n",
    "test_loader = DataLoader(dataset=test_dataset, batch_size=32, shuffle=False)"
   ]
  },
  {
   "cell_type": "markdown",
   "metadata": {},
   "source": [
    "# 2 Constructing Model Architecture:"
   ]
  },
  {
   "cell_type": "code",
   "execution_count": 76,
   "metadata": {},
   "outputs": [],
   "source": [
    "device = torch.device('cuda' if torch.cuda.is_available() else 'cpu')"
   ]
  },
  {
   "cell_type": "markdown",
   "metadata": {},
   "source": [
    "## 2.1 MLP Model"
   ]
  },
  {
   "cell_type": "code",
   "execution_count": 77,
   "metadata": {},
   "outputs": [
    {
     "name": "stderr",
     "output_type": "stream",
     "text": [
      "<string>:4: FutureWarning: Series.__getitem__ treating keys as positions is deprecated. In a future version, integer keys will always be treated as labels (consistent with DataFrame behavior). To access a value by position, use `ser.iloc[pos]`\n"
     ]
    }
   ],
   "source": [
    "from models import MLPModel\n",
    "input_size = train_dataset[0][0].shape[0]\n",
    "hidden_channels = 128\n",
    "output_size = 1\n",
    "model = MLPModel(input_size=input_size, hidden_channels=hidden_channels, output_size=output_size).to(device)"
   ]
  },
  {
   "cell_type": "markdown",
   "metadata": {},
   "source": [
    "## 2.2 Optimizer and Criterion:"
   ]
  },
  {
   "cell_type": "code",
   "execution_count": 78,
   "metadata": {},
   "outputs": [],
   "source": [
    "import torch.nn as nn\n",
    "import torch.optim.adam\n",
    "criterion = nn.BCELoss()\n",
    "learning_rate = .001\n",
    "weight_decay = 1e-5\n",
    "optimizer = torch.optim.Adam(model.parameters(), lr=learning_rate, weight_decay=weight_decay)"
   ]
  },
  {
   "cell_type": "markdown",
   "metadata": {},
   "source": [
    "# 3 Training the Model:"
   ]
  },
  {
   "cell_type": "code",
   "execution_count": 79,
   "metadata": {},
   "outputs": [
    {
     "name": "stdout",
     "output_type": "stream",
     "text": [
      "Epoch [1/100], Loss: 0.6325\n",
      "Epoch [2/100], Loss: 0.6162\n",
      "Epoch [3/100], Loss: 0.6181\n",
      "Epoch [4/100], Loss: 0.5983\n",
      "Epoch [5/100], Loss: 0.6086\n",
      "Epoch [6/100], Loss: 0.5881\n",
      "Epoch [7/100], Loss: 0.5826\n",
      "Epoch [8/100], Loss: 0.5839\n",
      "Epoch [9/100], Loss: 0.5842\n",
      "Epoch [10/100], Loss: 0.5673\n",
      "Epoch [11/100], Loss: 0.5657\n",
      "Epoch [12/100], Loss: 0.5784\n",
      "Epoch [13/100], Loss: 0.5692\n",
      "Epoch [14/100], Loss: 0.5672\n",
      "Epoch [15/100], Loss: 0.5531\n",
      "Epoch [16/100], Loss: 0.5628\n",
      "Epoch [17/100], Loss: 0.5480\n",
      "Epoch [18/100], Loss: 0.5450\n",
      "Epoch [19/100], Loss: 0.5399\n",
      "Epoch [20/100], Loss: 0.5340\n",
      "Epoch [21/100], Loss: 0.5436\n",
      "Epoch [22/100], Loss: 0.5340\n",
      "Epoch [23/100], Loss: 0.5388\n",
      "Epoch [24/100], Loss: 0.5392\n",
      "Epoch [25/100], Loss: 0.5309\n",
      "Epoch [26/100], Loss: 0.5232\n",
      "Epoch [27/100], Loss: 0.5290\n",
      "Epoch [28/100], Loss: 0.5193\n",
      "Epoch [29/100], Loss: 0.5101\n",
      "Epoch [30/100], Loss: 0.5102\n",
      "Epoch [31/100], Loss: 0.5026\n",
      "Epoch [32/100], Loss: 0.5044\n",
      "Epoch [33/100], Loss: 0.5025\n",
      "Epoch [34/100], Loss: 0.4970\n",
      "Epoch [35/100], Loss: 0.4936\n",
      "Epoch [36/100], Loss: 0.4987\n",
      "Epoch [37/100], Loss: 0.4898\n",
      "Epoch [38/100], Loss: 0.4867\n",
      "Epoch [39/100], Loss: 0.4879\n",
      "Epoch [40/100], Loss: 0.4797\n",
      "Epoch [41/100], Loss: 0.4843\n",
      "Epoch [42/100], Loss: 0.4903\n",
      "Epoch [43/100], Loss: 0.4814\n",
      "Epoch [44/100], Loss: 0.4735\n",
      "Epoch [45/100], Loss: 0.4721\n",
      "Epoch [46/100], Loss: 0.4739\n",
      "Epoch [47/100], Loss: 0.4751\n",
      "Epoch [48/100], Loss: 0.4700\n",
      "Epoch [49/100], Loss: 0.4766\n",
      "Epoch [50/100], Loss: 0.4626\n",
      "Epoch [51/100], Loss: 0.4583\n",
      "Epoch [52/100], Loss: 0.4623\n",
      "Epoch [53/100], Loss: 0.4563\n",
      "Epoch [54/100], Loss: 0.4571\n",
      "Epoch [55/100], Loss: 0.4495\n",
      "Epoch [56/100], Loss: 0.4612\n",
      "Epoch [57/100], Loss: 0.4588\n",
      "Epoch [58/100], Loss: 0.4462\n",
      "Epoch [59/100], Loss: 0.4408\n",
      "Epoch [60/100], Loss: 0.4424\n",
      "Epoch [61/100], Loss: 0.4564\n",
      "Epoch [62/100], Loss: 0.4379\n",
      "Epoch [63/100], Loss: 0.4464\n",
      "Epoch [64/100], Loss: 0.4457\n",
      "Epoch [65/100], Loss: 0.4310\n",
      "Epoch [66/100], Loss: 0.4425\n",
      "Epoch [67/100], Loss: 0.4317\n",
      "Epoch [68/100], Loss: 0.4390\n",
      "Epoch [69/100], Loss: 0.4289\n",
      "Epoch [70/100], Loss: 0.4355\n",
      "Epoch [71/100], Loss: 0.4296\n",
      "Epoch [72/100], Loss: 0.4216\n",
      "Epoch [73/100], Loss: 0.4289\n",
      "Epoch [74/100], Loss: 0.4364\n",
      "Epoch [75/100], Loss: 0.4197\n",
      "Epoch [76/100], Loss: 0.4187\n",
      "Epoch [77/100], Loss: 0.4194\n",
      "Epoch [78/100], Loss: 0.4280\n",
      "Epoch [79/100], Loss: 0.4167\n",
      "Epoch [80/100], Loss: 0.4138\n",
      "Epoch [81/100], Loss: 0.4151\n",
      "Epoch [82/100], Loss: 0.4215\n",
      "Epoch [83/100], Loss: 0.4069\n",
      "Epoch [84/100], Loss: 0.4095\n",
      "Epoch [85/100], Loss: 0.4065\n",
      "Epoch [86/100], Loss: 0.4094\n",
      "Epoch [87/100], Loss: 0.4085\n",
      "Epoch [88/100], Loss: 0.4080\n",
      "Epoch [89/100], Loss: 0.4064\n",
      "Epoch [90/100], Loss: 0.4106\n",
      "Epoch [91/100], Loss: 0.4093\n",
      "Epoch [92/100], Loss: 0.4089\n",
      "Epoch [93/100], Loss: 0.3982\n",
      "Epoch [94/100], Loss: 0.3949\n",
      "Epoch [95/100], Loss: 0.4023\n",
      "Epoch [96/100], Loss: 0.4071\n",
      "Epoch [97/100], Loss: 0.4005\n",
      "Epoch [98/100], Loss: 0.4152\n",
      "Epoch [99/100], Loss: 0.3921\n",
      "Epoch [100/100], Loss: 0.3888\n"
     ]
    }
   ],
   "source": [
    "num_epochs = 100\n",
    "for epoch in range(num_epochs):\n",
    "    model.train()\n",
    "    running_loss = 0.0\n",
    "\n",
    "    for inputs, labels in train_loader:\n",
    "        inputs = inputs.to(device)  # Move inputs to GPU\n",
    "        labels = labels.to(device)  # Move labels to GPU\n",
    "\n",
    "        optimizer.zero_grad()\n",
    "        outputs = model(inputs)\n",
    "        loss = criterion(outputs, labels)\n",
    "        loss.backward()\n",
    "        optimizer.step()\n",
    "        running_loss += loss.item()\n",
    "\n",
    "    print(f\"Epoch [{epoch+1}/{num_epochs}], Loss: {running_loss/len(train_loader):.4f}\")"
   ]
  },
  {
   "cell_type": "markdown",
   "metadata": {},
   "source": [
    "# 4 Evaluating the Model:"
   ]
  },
  {
   "cell_type": "code",
   "execution_count": 81,
   "metadata": {},
   "outputs": [
    {
     "name": "stdout",
     "output_type": "stream",
     "text": [
      "tensor([1., 1., 1., 1., 1., 1., 1., 1., 1., 1., 1., 1., 1., 1., 1., 1., 1., 1.,\n",
      "        1., 1., 1., 1., 1., 1., 1., 1., 1., 1., 1., 1., 1., 1.],\n",
      "       device='cuda:0')\n",
      "tensor([0., 1., 1., 1., 1., 1., 1., 1., 1., 1., 1., 1., 1., 1., 1., 1., 1., 1.,\n",
      "        1., 1., 1., 1., 1., 1., 1., 1., 1., 1., 1., 1., 1., 1.],\n",
      "       device='cuda:0')\n",
      "tensor([1., 1., 1., 1., 1., 1., 1., 1., 1., 1., 0., 0., 0., 0., 0., 0., 0., 0.,\n",
      "        0., 0., 0., 0., 0., 0., 0., 0., 0., 0., 0., 0., 0., 0.],\n",
      "       device='cuda:0')\n",
      "tensor([1., 1., 1., 1., 1., 1., 1., 1., 1., 1., 0., 0., 0., 0., 0., 0., 0., 0.,\n",
      "        0., 0., 0., 0., 0., 0., 0., 0., 0., 0., 0., 0., 0., 1.],\n",
      "       device='cuda:0')\n",
      "tensor([0., 0., 0., 0., 0., 0., 0., 0., 0., 0., 0., 0., 0., 0., 0., 0., 0.],\n",
      "       device='cuda:0')\n",
      "tensor([0., 1., 0., 0., 0., 0., 0., 0., 0., 0., 0., 0., 0., 0., 1., 0., 0.],\n",
      "       device='cuda:0')\n",
      "Accuracy on test data: 95.06%\n"
     ]
    }
   ],
   "source": [
    "model.eval()\n",
    "correct = 0\n",
    "total = 0\n",
    "\n",
    "with torch.no_grad():\n",
    "    for inputs, labels in test_loader:\n",
    "        inputs = inputs.to(device)\n",
    "        labels = labels.to(device)\n",
    "        outputs = model(inputs)\n",
    "        predicted = (outputs >= 0.5).float()\n",
    "        total += labels.size(0)\n",
    "        correct += (predicted == labels).sum().item()\n",
    "        print(labels)\n",
    "        print(predicted)\n",
    "\n",
    "accuracy = 100 * correct / total\n",
    "print(f\"Accuracy on test data: {accuracy:.2f}%\")"
   ]
  },
  {
   "cell_type": "code",
   "execution_count": 82,
   "metadata": {},
   "outputs": [
    {
     "name": "stdout",
     "output_type": "stream",
     "text": [
      "F1 Score: 0.6829\n"
     ]
    },
    {
     "data": {
      "image/png": "[encoded data removed]",
      "text/plain": [
       "<Figure size 640x480 with 1 Axes>"
      ]
     },
     "metadata": {},
     "output_type": "display_data"
    }
   ],
   "source": [
    "from sklearn.metrics import f1_score, roc_curve, auc\n",
    "import matplotlib.pyplot as plt\n",
    "import torch\n",
    "\n",
    "model.eval()  \n",
    "all_preds = []\n",
    "all_labels = []\n",
    "all_probs = []  # To store predicted probabilities\n",
    "\n",
    "with torch.no_grad():  \n",
    "    for inputs, labels in test_loader:  \n",
    "        inputs = inputs.to(device)\n",
    "        labels = labels.to(device)\n",
    "        outputs = model(inputs)\n",
    "        probs = torch.sigmoid(outputs)  # Convert logits to probabilities\n",
    "        predicted = (probs >= 0.5).float()  # Binary predictions\n",
    "        all_preds.extend(predicted.cpu().numpy())\n",
    "        all_labels.extend(labels.cpu().numpy())\n",
    "        all_probs.extend(probs.cpu().numpy())  # Store probabilities\n",
    "\n",
    "# Calculate F1 score\n",
    "f1 = f1_score(all_labels, all_preds)\n",
    "print(f\"F1 Score: {f1:.4f}\")\n",
    "\n",
    "# Generate ROC curve\n",
    "fpr, tpr, thresholds = roc_curve(all_labels, all_probs)  # Use probabilities for ROC\n",
    "roc_auc = auc(fpr, tpr)  # Calculate AUC\n",
    "\n",
    "# Plot ROC curve\n",
    "plt.figure()\n",
    "plt.plot(fpr, tpr, color='darkorange', lw=2, label=f'ROC curve (AUC = {roc_auc:.2f})')\n",
    "plt.plot([0, 1], [0, 1], color='navy', lw=2, linestyle='--')  # Diagonal line for random guessing\n",
    "plt.xlabel('False Positive Rate')\n",
    "plt.ylabel('True Positive Rate')\n",
    "plt.title('Receiver Operating Characteristic (ROC) Curve')\n",
    "plt.legend(loc=\"lower right\")\n",
    "plt.show()"
   ]
  },
  {
   "cell_type": "code",
   "execution_count": null,
   "metadata": {},
   "outputs": [],
   "source": []
  }
 ],
 "metadata": {
  "kernelspec": {
   "display_name": "biomarkers_env",
   "language": "python",
   "name": "python3"
  },
  "language_info": {
   "codemirror_mode": {
    "name": "ipython",
    "version": 3
   },
   "file_extension": ".py",
   "mimetype": "text/x-python",
   "name": "python",
   "nbconvert_exporter": "python",
   "pygments_lexer": "ipython3",
   "version": "3.12.3"
  }
 },
 "nbformat": 4,
 "nbformat_minor": 2
}
